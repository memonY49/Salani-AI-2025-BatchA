{
 "cells": [
  {
   "cell_type": "code",
   "execution_count": 7,
   "id": "6c6e9d34-b6cd-44d5-b316-a9b954a60273",
   "metadata": {
    "slideshow": {
     "slide_type": ""
    },
    "tags": []
   },
   "outputs": [],
   "source": [
    "import numpy as np"
   ]
  },
  {
   "cell_type": "markdown",
   "id": "002e0e66-5412-45ba-a210-7aabf12af0fc",
   "metadata": {},
   "source": [
    "Heading 1\n",
    "=========\n",
    "The above ___cell___ is printing hello\n",
    "--------------------------------------\n",
    "\n",
    "# Heading 2"
   ]
  },
  {
   "cell_type": "code",
   "execution_count": 66,
   "id": "d4996d5f-81ec-44fb-a740-303ef7f2bcda",
   "metadata": {},
   "outputs": [
    {
     "data": {
      "text/plain": [
       "array([['1', '2'],\n",
       "       ['2', '3'],\n",
       "       ['3', '4'],\n",
       "       ['4', '5'],\n",
       "       ['5', '6'],\n",
       "       ['6', 'h']], dtype='<U21')"
      ]
     },
     "execution_count": 66,
     "metadata": {},
     "output_type": "execute_result"
    }
   ],
   "source": [
    "myarray = np.array([[1,2],[2,3],[3,4],[4,5],[5,6],[6,\"h\"]])\n",
    "myarray"
   ]
  },
  {
   "cell_type": "code",
   "execution_count": 31,
   "id": "98792c55-eb0c-4adf-b5d3-3caaa879014c",
   "metadata": {},
   "outputs": [
    {
     "name": "stdout",
     "output_type": "stream",
     "text": [
      "Rows:  6\n",
      "Columns:  2\n"
     ]
    }
   ],
   "source": [
    "\n",
    "print(\"Rows: \",np.shape(myarray)[0])\n",
    "print(\"Columns: \",np.shape(myarray)[1])"
   ]
  },
  {
   "cell_type": "code",
   "execution_count": 75,
   "id": "36117b3f-03eb-4414-8eea-0096aaea5eca",
   "metadata": {},
   "outputs": [],
   "source": [
    "b = np.arange(0,200,10).reshape(4,5)"
   ]
  },
  {
   "cell_type": "code",
   "execution_count": 76,
   "id": "4adbeb1d-468d-42d0-8b86-3a3b1217e5aa",
   "metadata": {},
   "outputs": [
    {
     "data": {
      "text/plain": [
       "(4, 5)"
      ]
     },
     "execution_count": 76,
     "metadata": {},
     "output_type": "execute_result"
    }
   ],
   "source": [
    "np.shape(b)"
   ]
  },
  {
   "cell_type": "code",
   "execution_count": 77,
   "id": "48474191-ac52-4779-b1e5-3432599630ab",
   "metadata": {},
   "outputs": [
    {
     "data": {
      "text/plain": [
       "array([[  0,  10,  20,  30,  40],\n",
       "       [ 50,  60,  70,  80,  90],\n",
       "       [100, 110, 120, 130, 140],\n",
       "       [150, 160, 170, 180, 190]])"
      ]
     },
     "execution_count": 77,
     "metadata": {},
     "output_type": "execute_result"
    }
   ],
   "source": [
    "b"
   ]
  },
  {
   "cell_type": "code",
   "execution_count": 78,
   "id": "417304f3-f626-4feb-a244-189038e1ce23",
   "metadata": {},
   "outputs": [
    {
     "data": {
      "text/plain": [
       "numpy.ndarray"
      ]
     },
     "execution_count": 78,
     "metadata": {},
     "output_type": "execute_result"
    }
   ],
   "source": [
    "type(b)"
   ]
  },
  {
   "cell_type": "code",
   "execution_count": 79,
   "id": "32a3f84c-c3bb-458f-bc82-55f2ac6bb60e",
   "metadata": {},
   "outputs": [
    {
     "data": {
      "text/plain": [
       "dtype('int64')"
      ]
     },
     "execution_count": 79,
     "metadata": {},
     "output_type": "execute_result"
    }
   ],
   "source": [
    "b.dtype"
   ]
  },
  {
   "cell_type": "code",
   "execution_count": 80,
   "id": "77236a5e-9faa-4f1e-b8ab-87096704bb7e",
   "metadata": {},
   "outputs": [
    {
     "data": {
      "text/plain": [
       "dtype('<U21')"
      ]
     },
     "execution_count": 80,
     "metadata": {},
     "output_type": "execute_result"
    }
   ],
   "source": [
    "myarray.dtype"
   ]
  },
  {
   "cell_type": "code",
   "execution_count": 89,
   "id": "46f08407-0a96-48ec-bf9b-8345c7c59230",
   "metadata": {},
   "outputs": [
    {
     "name": "stdout",
     "output_type": "stream",
     "text": [
      "[[  0  10  20]\n",
      " [ 50  60  70]\n",
      " [100 110 120]]\n"
     ]
    }
   ],
   "source": [
    "print(b[:3,:3])"
   ]
  },
  {
   "cell_type": "code",
   "execution_count": null,
   "id": "a4f44200-4049-4bc7-b2e0-43a3ec0c18a8",
   "metadata": {},
   "outputs": [],
   "source": []
  },
  {
   "cell_type": "code",
   "execution_count": null,
   "id": "c4c0ba45-a4c3-4f84-b2e5-dc564fcfa00c",
   "metadata": {},
   "outputs": [],
   "source": []
  }
 ],
 "metadata": {
  "kernelspec": {
   "display_name": "Python 3 (ipykernel)",
   "language": "python",
   "name": "python3"
  },
  "language_info": {
   "codemirror_mode": {
    "name": "ipython",
    "version": 3
   },
   "file_extension": ".py",
   "mimetype": "text/x-python",
   "name": "python",
   "nbconvert_exporter": "python",
   "pygments_lexer": "ipython3",
   "version": "3.11.3"
  }
 },
 "nbformat": 4,
 "nbformat_minor": 5
}
