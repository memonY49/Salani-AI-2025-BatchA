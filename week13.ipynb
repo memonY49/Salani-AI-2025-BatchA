{
 "cells": [
  {
   "cell_type": "code",
   "execution_count": 110,
   "id": "c70508c4-86e8-458c-a8c2-49a2c7f7bc99",
   "metadata": {},
   "outputs": [],
   "source": [
    "import numpy as np\n",
    "from numpy import random"
   ]
  },
  {
   "cell_type": "code",
   "execution_count": 111,
   "id": "737afff5-509e-4056-ae33-f86d156e77b4",
   "metadata": {},
   "outputs": [
    {
     "data": {
      "text/plain": [
       "list"
      ]
     },
     "execution_count": 111,
     "metadata": {},
     "output_type": "execute_result"
    }
   ],
   "source": [
    "my_list = [1,2,3,4,5,6,8,9,0,55,7,8,55,3,44,2]\n",
    "type(my_list)"
   ]
  },
  {
   "cell_type": "code",
   "execution_count": 112,
   "id": "224598d1-ba08-4d56-bcbd-082a5ca776fb",
   "metadata": {},
   "outputs": [
    {
     "name": "stdout",
     "output_type": "stream",
     "text": [
      "[[[1 2 5]\n",
      "  [2 7 8]\n",
      "  [4 5 6]]\n",
      "\n",
      " [[4 1 4]\n",
      "  [5 7 9]\n",
      "  [7 8 3]]\n",
      "\n",
      " [[3 7 9]\n",
      "  [5 1 4]\n",
      "  [7 6 7]]]\n",
      "(3, 3, 3)\n",
      "row1: 3\n",
      "row2: 3\n",
      "column: 3\n"
     ]
    }
   ],
   "source": [
    "np_array = np.array(my_list)\n",
    "np_array.dtype\n",
    "\n",
    "# Data Types\n",
    "# Boolean : np.bool_\n",
    "# Char : np.byte\n",
    "# Short : np.short\n",
    "# Integer : np.short\n",
    "# Long : np.int_\n",
    "# Float : np.single & np.float32\n",
    "# Double : np.double & np.float64\n",
    "# np.int8 : -128 to 127\n",
    "# np.int16 : -32768 to 32767\n",
    "# np.int32 : -2147483648 to 2147483647\n",
    "# np.int64 : -9223372036854775808 to 9223372036854775807\n",
    "\n",
    "np_array1 = np.array([[[1,2,5],[2,7,8],[4,5,6,]],[[4,1,4],[5,7,9],[7,8,3]],[[3,7,9],[5,1,4],[7,6,7]]])\n",
    "print(np_array1)\n",
    "print(np_array1.shape)\n",
    "\n",
    "np_array1.ndim\n",
    "\n",
    "print(\"row1:\",np_array1.shape[0])\n",
    "print(\"row2:\",np_array1.shape[1])\n",
    "print(\"column:\",np_array1.shape[2])\n",
    "\n"
   ]
  },
  {
   "cell_type": "code",
   "execution_count": 113,
   "id": "14c3bd77-be35-4396-8060-d2ad58ce570a",
   "metadata": {},
   "outputs": [
    {
     "data": {
      "text/plain": [
       "(16,)"
      ]
     },
     "execution_count": 113,
     "metadata": {},
     "output_type": "execute_result"
    }
   ],
   "source": [
    "np_array.ndim\n",
    "np_array.shape\n"
   ]
  },
  {
   "cell_type": "code",
   "execution_count": 114,
   "id": "aaae0143-c062-4b82-ad3f-0cb13079bcec",
   "metadata": {},
   "outputs": [
    {
     "name": "stdout",
     "output_type": "stream",
     "text": [
      "[ 1  2  3  4  5  6  8  9  0 55  7  8 55  3 44  2]\n"
     ]
    },
    {
     "data": {
      "text/plain": [
       "3"
      ]
     },
     "execution_count": 114,
     "metadata": {},
     "output_type": "execute_result"
    }
   ],
   "source": [
    "print(np_array)\n",
    "np_array.reshape(4,2,2).ndim"
   ]
  },
  {
   "cell_type": "code",
   "execution_count": 115,
   "id": "075c5ae8-9f0a-4c74-9bc8-fda5532da574",
   "metadata": {},
   "outputs": [
    {
     "data": {
      "text/plain": [
       "array([[[ 1,  3],\n",
       "        [ 5,  7],\n",
       "        [ 9, 11],\n",
       "        [13, 15],\n",
       "        [17, 19]],\n",
       "\n",
       "       [[21, 23],\n",
       "        [25, 27],\n",
       "        [29, 31],\n",
       "        [33, 35],\n",
       "        [37, 39]],\n",
       "\n",
       "       [[41, 43],\n",
       "        [45, 47],\n",
       "        [49, 51],\n",
       "        [53, 55],\n",
       "        [57, 59]],\n",
       "\n",
       "       [[61, 63],\n",
       "        [65, 67],\n",
       "        [69, 71],\n",
       "        [73, 75],\n",
       "        [77, 79]],\n",
       "\n",
       "       [[81, 83],\n",
       "        [85, 87],\n",
       "        [89, 91],\n",
       "        [93, 95],\n",
       "        [97, 99]]])"
      ]
     },
     "execution_count": 115,
     "metadata": {},
     "output_type": "execute_result"
    }
   ],
   "source": [
    "np_array2 = np.arange(1,100,2)\n",
    "np_array2.reshape(5,5,2)"
   ]
  },
  {
   "cell_type": "code",
   "execution_count": 116,
   "id": "21cc4769-6f3e-4a43-aa29-b471f739a90f",
   "metadata": {},
   "outputs": [
    {
     "data": {
      "text/plain": [
       "array([[0, 0, 0, 0, 0],\n",
       "       [0, 0, 0, 0, 0]])"
      ]
     },
     "execution_count": 116,
     "metadata": {},
     "output_type": "execute_result"
    }
   ],
   "source": [
    "np.zeros((2,5),int)"
   ]
  },
  {
   "cell_type": "code",
   "execution_count": 117,
   "id": "805df3c0-816e-45d3-b82d-d6db7992f0fa",
   "metadata": {},
   "outputs": [
    {
     "data": {
      "text/plain": [
       "array([[1., 1., 1., 1., 1.],\n",
       "       [1., 1., 1., 1., 1.]])"
      ]
     },
     "execution_count": 117,
     "metadata": {},
     "output_type": "execute_result"
    }
   ],
   "source": [
    "np.ones((2,5))"
   ]
  },
  {
   "cell_type": "code",
   "execution_count": 118,
   "id": "d51301bc-d3b1-4ad6-87cb-c1e69b0e0e24",
   "metadata": {},
   "outputs": [
    {
     "data": {
      "text/plain": [
       "array([[1, 0],\n",
       "       [0, 1]])"
      ]
     },
     "execution_count": 118,
     "metadata": {},
     "output_type": "execute_result"
    }
   ],
   "source": [
    "np.eye(2,2,dtype = int)"
   ]
  },
  {
   "cell_type": "code",
   "execution_count": 119,
   "id": "5445018b-69ee-4f77-83cb-10159b06bd49",
   "metadata": {},
   "outputs": [
    {
     "data": {
      "text/plain": [
       "array([0., 0., 0., 0., 0.])"
      ]
     },
     "execution_count": 119,
     "metadata": {},
     "output_type": "execute_result"
    }
   ],
   "source": [
    "np.zeros(5)"
   ]
  },
  {
   "cell_type": "code",
   "execution_count": 120,
   "id": "27becfbe-c68d-413f-8d20-1d160a23affa",
   "metadata": {},
   "outputs": [
    {
     "data": {
      "text/plain": [
       "array([52, 59], dtype=int32)"
      ]
     },
     "execution_count": 120,
     "metadata": {},
     "output_type": "execute_result"
    }
   ],
   "source": [
    "np.random.randint([100,100])"
   ]
  },
  {
   "cell_type": "code",
   "execution_count": 121,
   "id": "eb84e005-df64-4fdb-b0ee-868c624fa7f0",
   "metadata": {},
   "outputs": [
    {
     "name": "stdout",
     "output_type": "stream",
     "text": [
      "[[204 162 246 210 207]\n",
      " [270 204 243 234 240]\n",
      " [207 207 249 273 183]\n",
      " [291 294 249 252 237]\n",
      " [231 282 168 177 276]]\n"
     ]
    }
   ],
   "source": [
    "np_array4 = np.random.randint(50,100, size = (5,5))\n",
    "print(np_array4*3)"
   ]
  },
  {
   "cell_type": "code",
   "execution_count": 122,
   "id": "1d1447df-0b76-40a9-83e5-48585980343f",
   "metadata": {},
   "outputs": [
    {
     "data": {
      "text/plain": [
       "array([68, 90, 69, 97, 77, 54, 68, 69, 98, 94, 82, 81, 83, 83, 56, 70, 78,\n",
       "       91, 84, 59, 69, 80, 61, 79, 92], dtype=int32)"
      ]
     },
     "execution_count": 122,
     "metadata": {},
     "output_type": "execute_result"
    }
   ],
   "source": [
    "np_array4.flatten(\"F\")"
   ]
  },
  {
   "cell_type": "code",
   "execution_count": 123,
   "id": "9355b95b-11d7-44e0-91ea-b4d344c97281",
   "metadata": {},
   "outputs": [],
   "source": [
    "even = np_array4[(np_array4%2==0) & (np_array4>50)]"
   ]
  },
  {
   "cell_type": "code",
   "execution_count": 124,
   "id": "db4596e8-a002-4f2f-a8d2-4a06265d216d",
   "metadata": {},
   "outputs": [
    {
     "name": "stdout",
     "output_type": "stream",
     "text": [
      "[68 54 82 70 90 68 78 80 98 84 94 56 92]\n"
     ]
    }
   ],
   "source": [
    "print(even)"
   ]
  },
  {
   "cell_type": "code",
   "execution_count": 126,
   "id": "76e213e8-ca84-49b6-9f37-62b97c1c6da3",
   "metadata": {},
   "outputs": [
    {
     "name": "stdout",
     "output_type": "stream",
     "text": [
      "14\n"
     ]
    },
    {
     "data": {
      "text/plain": [
       "array([[68, 54, 82, 70, 90, 68, 78],\n",
       "       [80, 98, 84, 94, 56, 92,  0]])"
      ]
     },
     "execution_count": 126,
     "metadata": {},
     "output_type": "execute_result"
    }
   ],
   "source": [
    "print(even.size)\n",
    "if even.size%2 !=0:\n",
    "    even = np.append(even,[np.nan])\n",
    "    print(even)\n",
    "even.reshape(2,int(len(even)/2))"
   ]
  },
  {
   "cell_type": "markdown",
   "id": "d7fe9c1f-fb46-4314-8850-5ca11d713fbd",
   "metadata": {},
   "source": [
    "# Linespaces"
   ]
  },
  {
   "cell_type": "code",
   "execution_count": 133,
   "id": "07ecbf22-ef32-4878-99c1-328e387ad22f",
   "metadata": {},
   "outputs": [
    {
     "data": {
      "text/plain": [
       "array([0.        , 0.11111111, 0.22222222, 0.33333333, 0.44444444,\n",
       "       0.55555556, 0.66666667, 0.77777778, 0.88888889, 1.        ])"
      ]
     },
     "execution_count": 133,
     "metadata": {},
     "output_type": "execute_result"
    }
   ],
   "source": [
    "np.linspace(0,1,10)\n"
   ]
  },
  {
   "cell_type": "markdown",
   "id": "065380e8-5432-4dc7-9210-5f5fe2d9181e",
   "metadata": {},
   "source": [
    "# Unique Elements"
   ]
  },
  {
   "cell_type": "code",
   "execution_count": 135,
   "id": "82411d61-aad0-4987-aad8-c03f23c24a76",
   "metadata": {},
   "outputs": [
    {
     "name": "stdout",
     "output_type": "stream",
     "text": [
      "[[68 54 82 70 69]\n",
      " [90 68 81 78 80]\n",
      " [69 69 83 91 61]\n",
      " [97 98 83 84 79]\n",
      " [77 94 56 59 92]]\n"
     ]
    },
    {
     "data": {
      "text/plain": [
       "array([54, 56, 59, 61, 68, 69, 70, 77, 78, 79, 80, 81, 82, 83, 84, 90, 91,\n",
       "       92, 94, 97, 98], dtype=int32)"
      ]
     },
     "execution_count": 135,
     "metadata": {},
     "output_type": "execute_result"
    }
   ],
   "source": [
    "print(np_array4)\n",
    "np.unique(np_array4)"
   ]
  },
  {
   "cell_type": "markdown",
   "id": "9c7173d5-51d3-4c59-8ced-4ff883db8ff4",
   "metadata": {},
   "source": [
    "# Reshaping Arrays"
   ]
  },
  {
   "cell_type": "code",
   "execution_count": 159,
   "id": "25ac4088-9847-40be-8762-e1b93175ea12",
   "metadata": {},
   "outputs": [
    {
     "name": "stdout",
     "output_type": "stream",
     "text": [
      "[[9 3 4 8 8]\n",
      " [4 6 0 9 4]\n",
      " [5 4 9 0 2]\n",
      " [7 4 6 8 1]]\n"
     ]
    },
    {
     "data": {
      "text/plain": [
       "array([[3, 4, 8, 8, 9],\n",
       "       [0, 4, 4, 6, 9],\n",
       "       [0, 2, 4, 5, 9],\n",
       "       [1, 4, 6, 7, 8]], dtype=int32)"
      ]
     },
     "execution_count": 159,
     "metadata": {},
     "output_type": "execute_result"
    }
   ],
   "source": [
    "np_array5 = np.random.randint(0,10,size = (4,5))\n",
    "# np_array5.reshape(2,2,25)\n",
    "# np_array5.resize(2,50)\n",
    "print(np_array5)\n",
    "np_array5.transpose()\n",
    "np_array5.swapaxes(1,0)\n",
    "np_array5.sort(axis = 1)\n",
    "np_array5"
   ]
  },
  {
   "cell_type": "markdown",
   "id": "e0072f6e-e08e-477d-8adb-c49196573ae6",
   "metadata": {},
   "source": [
    "# Stacking & Splitting"
   ]
  },
  {
   "cell_type": "code",
   "execution_count": 256,
   "id": "164894b4-6be8-46df-8a74-bb1078a5c1e9",
   "metadata": {},
   "outputs": [
    {
     "name": "stdout",
     "output_type": "stream",
     "text": [
      "np_array6 [[2 0 9 6 1 8 3 3 1 4]\n",
      " [4 9 4 5 1 9 0 0 4 2]\n",
      " [5 7 1 7 8 1 7 7 0 0]\n",
      " [4 1 9 4 0 2 1 7 6 9]]\n",
      "np_array7 [[8 6 0 4 1 0 6 2 5 1]\n",
      " [7 3 4 3 1 4 0 9 7 0]\n",
      " [9 6 0 1 2 6 2 9 0 4]\n",
      " [5 3 8 6 3 8 7 8 7 1]]\n"
     ]
    },
    {
     "data": {
      "text/plain": [
       "[array([[2, 0, 9, 6, 1, 8, 3, 3, 1, 4],\n",
       "        [4, 9, 4, 5, 1, 9, 0, 0, 4, 2]], dtype=int32),\n",
       " array([[5, 7, 1, 7, 8, 1, 7, 7, 0, 0],\n",
       "        [4, 1, 9, 4, 0, 2, 1, 7, 6, 9]], dtype=int32)]"
      ]
     },
     "execution_count": 256,
     "metadata": {},
     "output_type": "execute_result"
    }
   ],
   "source": [
    "np_array6 = np.random.randint(0,10,size = (4,10))\n",
    "print(\"np_array6\",np_array6)\n",
    "np_array7 = np.random.randint(0,10,size = (4,10))\n",
    "print(\"np_array7\",np_array7)\n",
    "\n",
    "np.vstack((np_array6,np_array7))\n",
    "np.hstack((np_array6,np_array7))\n",
    "\n",
    "# np_array8 = np.delete(np_array6,2,0)\n",
    "np_array8 = np.delete(np_array6,1,1)\n",
    "np_array8\n",
    "\n",
    "# np.column_stack((np_array6,np_array7))\n",
    "# np.row_stack((np_array6,np_array7))\n",
    "\n",
    "\n",
    "np.vsplit(np_array6, 2)\n",
    "\n",
    "# np.split?\n",
    "\n",
    "\n",
    "\n",
    "\n"
   ]
  },
  {
   "cell_type": "markdown",
   "id": "ed343385-fe64-4b15-8dd9-4bbfb7e9975a",
   "metadata": {},
   "source": [
    "# Copying"
   ]
  },
  {
   "cell_type": "code",
   "execution_count": 205,
   "id": "566563d3-43bc-4cf8-a590-7d224f8e109e",
   "metadata": {},
   "outputs": [
    {
     "name": "stdout",
     "output_type": "stream",
     "text": [
      "np_array6 [[3 8 4 8 6 2 3 1 8 8]\n",
      " [5 4 0 1 2 6 2 6 0 1]\n",
      " [4 6 5 7 8 2 9 0 9 0]\n",
      " [2 8 0 3 3 3 2 1 8 8]]\n",
      "np_array6 [[3 8 4 8 6 2 3 1 8 8]\n",
      " [5 4 0 1 2 6 2 6 0 1]\n",
      " [4 6 5 7 8 2 9 0 9 0]\n",
      " [2 8 0 3 3 3 2 1 8 8]]\n",
      "[3 8 4 8 6 2 3 1 8 8 5 4 0 1 2 6 2 6 0 1 4 6 5 7 8 2 9 0 9 0 2 8 0 3 3 3 2\n",
      " 1 8 8]\n",
      "cp_array [[3 8 4 8 6 2 3 1 8 8]\n",
      " [5 4 0 1 2 6 2 6 0 1]\n",
      " [4 6 5 7 8 2 9 0 9 0]\n",
      " [2 8 0 3 3 3 2 1 8 8]]\n"
     ]
    }
   ],
   "source": [
    "\n",
    "np_array8 = np_array6\n",
    "# np_array8.resize(4,5)\n",
    "\n",
    "print(\"np_array6\",np_array6)\n",
    "print(\"np_array6\",np_array8)\n",
    "\n",
    "cp_array = np_array6.view()\n",
    "print(cp_array.flatten())\n",
    "\n",
    "# cp_array.resize((2,4))\n",
    "print(\"cp_array\",cp_array)\n",
    "cp_array1 = np_array6.copy()\n",
    "\n",
    "cp_array1.resize((4,5))\n"
   ]
  },
  {
   "cell_type": "markdown",
   "id": "5bfcf9ad-dd5c-44b5-97fe-2a0bf6cd7ab2",
   "metadata": {},
   "source": [
    "# Math"
   ]
  },
  {
   "cell_type": "code",
   "execution_count": 280,
   "id": "bf8dc2af-9b53-44ff-a490-253c61c7e370",
   "metadata": {},
   "outputs": [
    {
     "name": "stdout",
     "output_type": "stream",
     "text": [
      "arr_4 [2 4 6 8]\n",
      "[[35 94 81]\n",
      " [25 46 15]]\n",
      "(2, 3)\n"
     ]
    }
   ],
   "source": [
    "arr_3 = np.array([1, 2, 3, 4])\n",
    "arr_4 = np.array([2, 4, 6, 8])\n",
    "print(\"arr_4\",arr_4)\n",
    "\n",
    "arr_3 + arr_4\n",
    "\n",
    "arr_3 - arr_4\n",
    "\n",
    "arr_3 * arr_4\n",
    "\n",
    "arr_3 / arr_4\n",
    "\n",
    "arr_3 % arr_4\n",
    "\n",
    "random.choice(arr_4)\n",
    "\n",
    "arr_4.sum()\n",
    "\n",
    "arr_6 = random.randint(100, size=(2, 3))\n",
    "print(arr_6)\n",
    "\n",
    "arr_6.cumsum(axis = 1)\n",
    "\n",
    "arr_6.min()\n",
    "\n",
    "arr_6.max()\n",
    "\n",
    "max_values = arr_6.argmax(axis = 0)\n",
    "\n",
    "np.add(arr_3,arr_4)\n",
    "\n",
    "np.subtract(arr_3,arr_4)\n",
    "\n",
    "np.power(arr_3,arr_4)\n",
    "\n",
    "np.sqrt(arr_4)\n",
    "\n",
    "np.cbrt(arr_4)\n",
    "\n",
    "np.absolute([-2,-5,6,9.9])\n",
    "\n",
    "np.exp(arr_4)\n",
    "np.floor([1.3,5.9,10.0]) #round down\n",
    "np.ceil([1.3,5.9,10.0]) #round up\n",
    "\n",
    "print(arr_6.shape)\n",
    "\n"
   ]
  },
  {
   "cell_type": "code",
   "execution_count": 324,
   "id": "4b70f18b-5712-46cb-adc1-766909a0ab9c",
   "metadata": {},
   "outputs": [
    {
     "name": "stdout",
     "output_type": "stream",
     "text": [
      "['Maths' 'Urdu' 'Sindhi' 'Chemistry' 'Physics']\n",
      "['st-1' 'st-2' 'st-3' 'st-4' 'st-5']\n",
      "[[80 70 40 90 60]\n",
      " [80 70 40 90 60]\n",
      " [80 70 95 90 60]\n",
      " [80 70 40 90 60]\n",
      " [80 70 40 90 60]]\n",
      "\n",
      "**********\n",
      "Rank:0\n",
      "Student Id: st-3\n",
      "Subject with high score: Sindhi\n",
      "Score: 2\n",
      "**********\n",
      "**********\n",
      "Rank:1\n",
      "Student Id: st-1\n",
      "Subject with high score: Maths\n",
      "Score: 3\n",
      "**********\n",
      "**********\n",
      "Rank:2\n",
      "Student Id: st-2\n",
      "Subject with high score: Urdu\n",
      "Score: 3\n",
      "**********\n",
      "**********\n",
      "Rank:3\n",
      "Student Id: st-4\n",
      "Subject with high score: Chemistry\n",
      "Score: 3\n",
      "**********\n",
      "**********\n",
      "Rank:4\n",
      "Student Id: st-5\n",
      "Subject with high score: Physics\n",
      "Score: 3\n",
      "**********\n"
     ]
    }
   ],
   "source": [
    "Student_data = {\"st-1\":{\"Maths\":80,\"Urdu\":70,\"Sindhi\":40,\"Chemistry\":90,\"Physics\":60},\n",
    "               \"st-2\":{\"Maths\":80,\"Urdu\":70,\"Sindhi\":40,\"Chemistry\":90,\"Physics\":60},\n",
    "               \"st-3\":{\"Maths\":80,\"Urdu\":70,\"Sindhi\":95,\"Chemistry\":90,\"Physics\":60},\n",
    "               \"st-4\":{\"Maths\":80,\"Urdu\":70,\"Sindhi\":40,\"Chemistry\":90,\"Physics\":60},\n",
    "               \"st-5\":{\"Maths\":80,\"Urdu\":70,\"Sindhi\":40,\"Chemistry\":90,\"Physics\":60}}\n",
    "st_Id = np.array([key for key in Student_data.keys()])\n",
    "st_array = np.array([list(value.values()) for value in Student_data.values()])\n",
    "subjects = np.array([list(key.keys()) for key in Student_data.values()])[0]\n",
    "\n",
    "\n",
    "print(subjects)\n",
    "print(st_Id)\n",
    "print(st_array)\n",
 
    "\n"
   ]
  },
  {
   "cell_type": "code",
   "execution_count": null,
   "id": "d967b746-357f-4e79-b2bc-6eeda28855d8",
   "metadata": {},
   "outputs": [],
   "source": []
  }
 ],
 "metadata": {
  "kernelspec": {
   "display_name": "Python 3 (ipykernel)",
   "language": "python",
   "name": "python3"
  },
  "language_info": {
   "codemirror_mode": {
    "name": "ipython",
    "version": 3
   },
   "file_extension": ".py",
   "mimetype": "text/x-python",
   "name": "python",
   "nbconvert_exporter": "python",
   "pygments_lexer": "ipython3",
   "version": "3.11.3"
  }
 },
 "nbformat": 4,
 "nbformat_minor": 5
}
