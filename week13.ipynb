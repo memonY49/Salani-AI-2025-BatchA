{
 "cells": [
  {
   "cell_type": "code",
   "execution_count": 1,
   "id": "c70508c4-86e8-458c-a8c2-49a2c7f7bc99",
   "metadata": {},
   "outputs": [],
   "source": [
    "import numpy as np\n",
    "from numpy import random"
   ]
  },
  {
   "cell_type": "code",
   "execution_count": 2,
   "id": "737afff5-509e-4056-ae33-f86d156e77b4",
   "metadata": {},
   "outputs": [
    {
     "data": {
      "text/plain": [
       "list"
      ]
     },
     "execution_count": 2,
     "metadata": {},
     "output_type": "execute_result"
    }
   ],
   "source": [
    "my_list = [1,2,3,4,5,6,8,9,0,55,7,8,55,3,44,2]\n",
    "type(my_list)"
   ]
  },
  {
   "cell_type": "code",
   "execution_count": 3,
   "id": "224598d1-ba08-4d56-bcbd-082a5ca776fb",
   "metadata": {},
   "outputs": [
    {
     "name": "stdout",
     "output_type": "stream",
     "text": [
      "[[[1 2 5]\n",
      "  [2 7 8]\n",
      "  [4 5 6]]\n",
      "\n",
      " [[4 1 4]\n",
      "  [5 7 9]\n",
      "  [7 8 3]]\n",
      "\n",
      " [[3 7 9]\n",
      "  [5 1 4]\n",
      "  [7 6 7]]]\n",
      "(3, 3, 3)\n",
      "row1: 3\n",
      "row2: 3\n",
      "column: 3\n"
     ]
    }
   ],
   "source": [
    "np_array = np.array(my_list)\n",
    "np_array.dtype\n",
    "\n",
    "# Data Types\n",
    "# Boolean : np.bool_\n",
    "# Char : np.byte\n",
    "# Short : np.short\n",
    "# Integer : np.short\n",
    "# Long : np.int_\n",
    "# Float : np.single & np.float32\n",
    "# Double : np.double & np.float64\n",
    "# np.int8 : -128 to 127\n",
    "# np.int16 : -32768 to 32767\n",
    "# np.int32 : -2147483648 to 2147483647\n",
    "# np.int64 : -9223372036854775808 to 9223372036854775807\n",
    "\n",
    "np_array1 = np.array([[[1,2,5],[2,7,8],[4,5,6,]],[[4,1,4],[5,7,9],[7,8,3]],[[3,7,9],[5,1,4],[7,6,7]]])\n",
    "print(np_array1)\n",
    "print(np_array1.shape)\n",
    "\n",
    "np_array1.ndim\n",
    "\n",
    "print(\"row1:\",np_array1.shape[0])\n",
    "print(\"row2:\",np_array1.shape[1])\n",
    "print(\"column:\",np_array1.shape[2])\n",
    "\n"
   ]
  },
  {
   "cell_type": "code",
   "execution_count": 4,
   "id": "14c3bd77-be35-4396-8060-d2ad58ce570a",
   "metadata": {},
   "outputs": [
    {
     "data": {
      "text/plain": [
       "(16,)"
      ]
     },
     "execution_count": 4,
     "metadata": {},
     "output_type": "execute_result"
    }
   ],
   "source": [
    "np_array.ndim\n",
    "np_array.shape\n"
   ]
  },
  {
   "cell_type": "code",
   "execution_count": 5,
   "id": "aaae0143-c062-4b82-ad3f-0cb13079bcec",
   "metadata": {},
   "outputs": [
    {
     "name": "stdout",
     "output_type": "stream",
     "text": [
      "[ 1  2  3  4  5  6  8  9  0 55  7  8 55  3 44  2]\n"
     ]
    },
    {
     "data": {
      "text/plain": [
       "3"
      ]
     },
     "execution_count": 5,
     "metadata": {},
     "output_type": "execute_result"
    }
   ],
   "source": [
    "print(np_array)\n",
    "np_array.reshape(4,2,2).ndim"
   ]
  },
  {
   "cell_type": "code",
   "execution_count": 6,
   "id": "075c5ae8-9f0a-4c74-9bc8-fda5532da574",
   "metadata": {},
   "outputs": [
    {
     "data": {
      "text/plain": [
       "array([[[ 1,  3],\n",
       "        [ 5,  7],\n",
       "        [ 9, 11],\n",
       "        [13, 15],\n",
       "        [17, 19]],\n",
       "\n",
       "       [[21, 23],\n",
       "        [25, 27],\n",
       "        [29, 31],\n",
       "        [33, 35],\n",
       "        [37, 39]],\n",
       "\n",
       "       [[41, 43],\n",
       "        [45, 47],\n",
       "        [49, 51],\n",
       "        [53, 55],\n",
       "        [57, 59]],\n",
       "\n",
       "       [[61, 63],\n",
       "        [65, 67],\n",
       "        [69, 71],\n",
       "        [73, 75],\n",
       "        [77, 79]],\n",
       "\n",
       "       [[81, 83],\n",
       "        [85, 87],\n",
       "        [89, 91],\n",
       "        [93, 95],\n",
       "        [97, 99]]])"
      ]
     },
     "execution_count": 6,
     "metadata": {},
     "output_type": "execute_result"
    }
   ],
   "source": [
    "np_array2 = np.arange(1,100,2)\n",
    "np_array2.reshape(5,5,2)"
   ]
  },
  {
   "cell_type": "code",
   "execution_count": 7,
   "id": "21cc4769-6f3e-4a43-aa29-b471f739a90f",
   "metadata": {},
   "outputs": [
    {
     "data": {
      "text/plain": [
       "array([[0, 0, 0, 0, 0],\n",
       "       [0, 0, 0, 0, 0]])"
      ]
     },
     "execution_count": 7,
     "metadata": {},
     "output_type": "execute_result"
    }
   ],
   "source": [
    "np.zeros((2,5),int)"
   ]
  },
  {
   "cell_type": "code",
   "execution_count": 8,
   "id": "805df3c0-816e-45d3-b82d-d6db7992f0fa",
   "metadata": {},
   "outputs": [
    {
     "data": {
      "text/plain": [
       "array([[1., 1., 1., 1., 1.],\n",
       "       [1., 1., 1., 1., 1.]])"
      ]
     },
     "execution_count": 8,
     "metadata": {},
     "output_type": "execute_result"
    }
   ],
   "source": [
    "np.ones((2,5))"
   ]
  },
  {
   "cell_type": "code",
   "execution_count": 9,
   "id": "d51301bc-d3b1-4ad6-87cb-c1e69b0e0e24",
   "metadata": {},
   "outputs": [
    {
     "data": {
      "text/plain": [
       "array([[1, 0],\n",
       "       [0, 1]])"
      ]
     },
     "execution_count": 9,
     "metadata": {},
     "output_type": "execute_result"
    }
   ],
   "source": [
    "np.eye(2,2,dtype = int)"
   ]
  },
  {
   "cell_type": "code",
   "execution_count": 10,
   "id": "5445018b-69ee-4f77-83cb-10159b06bd49",
   "metadata": {},
   "outputs": [
    {
     "data": {
      "text/plain": [
       "array([0., 0., 0., 0., 0.])"
      ]
     },
     "execution_count": 10,
     "metadata": {},
     "output_type": "execute_result"
    }
   ],
   "source": [
    "np.zeros(5)"
   ]
  },
  {
   "cell_type": "code",
   "execution_count": 11,
   "id": "27becfbe-c68d-413f-8d20-1d160a23affa",
   "metadata": {},
   "outputs": [
    {
     "data": {
      "text/plain": [
       "array([40, 66], dtype=int32)"
      ]
     },
     "execution_count": 11,
     "metadata": {},
     "output_type": "execute_result"
    }
   ],
   "source": [
    "np.random.randint([100,100])"
   ]
  },
  {
   "cell_type": "code",
   "execution_count": 12,
   "id": "eb84e005-df64-4fdb-b0ee-868c624fa7f0",
   "metadata": {},
   "outputs": [
    {
     "name": "stdout",
     "output_type": "stream",
     "text": [
      "[[213 267 222 168 183]\n",
      " [270 261 276 189 207]\n",
      " [240 282 294 288 153]\n",
      " [240 222 192 207 228]\n",
      " [192 189 246 174 174]]\n"
     ]
    }
   ],
   "source": [
    "np_array4 = np.random.randint(50,100, size = (5,5))\n",
    "print(np_array4*3)"
   ]
  },
  {
   "cell_type": "code",
   "execution_count": 13,
   "id": "1d1447df-0b76-40a9-83e5-48585980343f",
   "metadata": {},
   "outputs": [
    {
     "data": {
      "text/plain": [
       "array([71, 90, 80, 80, 64, 89, 87, 94, 74, 63, 74, 92, 98, 64, 82, 56, 63,\n",
       "       96, 69, 58, 61, 69, 51, 76, 58], dtype=int32)"
      ]
     },
     "execution_count": 13,
     "metadata": {},
     "output_type": "execute_result"
    }
   ],
   "source": [
    "np_array4.flatten(\"F\")"
   ]
  },
  {
   "cell_type": "code",
   "execution_count": 14,
   "id": "9355b95b-11d7-44e0-91ea-b4d344c97281",
   "metadata": {},
   "outputs": [],
   "source": [
    "even = np_array4[(np_array4%2==0) & (np_array4>50)]"
   ]
  },
  {
   "cell_type": "code",
   "execution_count": 15,
   "id": "db4596e8-a002-4f2f-a8d2-4a06265d216d",
   "metadata": {},
   "outputs": [
    {
     "name": "stdout",
     "output_type": "stream",
     "text": [
      "[74 56 90 92 80 94 98 96 80 74 64 76 64 82 58 58]\n"
     ]
    }
   ],
   "source": [
    "print(even)"
   ]
  },
  {
   "cell_type": "code",
   "execution_count": 16,
   "id": "76e213e8-ca84-49b6-9f37-62b97c1c6da3",
   "metadata": {},
   "outputs": [
    {
     "name": "stdout",
     "output_type": "stream",
     "text": [
      "16\n"
     ]
    },
    {
     "data": {
      "text/plain": [
       "array([[74, 56, 90, 92, 80, 94, 98, 96],\n",
       "       [80, 74, 64, 76, 64, 82, 58, 58]], dtype=int32)"
      ]
     },
     "execution_count": 16,
     "metadata": {},
     "output_type": "execute_result"
    }
   ],
   "source": [
    "print(even.size)\n",
    "if even.size%2 !=0:\n",
    "    even = np.append(even,[np.nan])\n",
    "    print(even)\n",
    "even.reshape(2,int(len(even)/2))"
   ]
  },
  {
   "cell_type": "markdown",
   "id": "d7fe9c1f-fb46-4314-8850-5ca11d713fbd",
   "metadata": {},
   "source": [
    "# Linespaces"
   ]
  },
  {
   "cell_type": "code",
   "execution_count": 17,
   "id": "07ecbf22-ef32-4878-99c1-328e387ad22f",
   "metadata": {},
   "outputs": [
    {
     "data": {
      "text/plain": [
       "array([0.        , 0.11111111, 0.22222222, 0.33333333, 0.44444444,\n",
       "       0.55555556, 0.66666667, 0.77777778, 0.88888889, 1.        ])"
      ]
     },
     "execution_count": 17,
     "metadata": {},
     "output_type": "execute_result"
    }
   ],
   "source": [
    "np.linspace(0,1,10)\n"
   ]
  },
  {
   "cell_type": "markdown",
   "id": "065380e8-5432-4dc7-9210-5f5fe2d9181e",
   "metadata": {},
   "source": [
    "# Unique Elements"
   ]
  },
  {
   "cell_type": "code",
   "execution_count": 18,
   "id": "82411d61-aad0-4987-aad8-c03f23c24a76",
   "metadata": {},
   "outputs": [
    {
     "name": "stdout",
     "output_type": "stream",
     "text": [
      "[[71 89 74 56 61]\n",
      " [90 87 92 63 69]\n",
      " [80 94 98 96 51]\n",
      " [80 74 64 69 76]\n",
      " [64 63 82 58 58]]\n"
     ]
    },
    {
     "data": {
      "text/plain": [
       "array([51, 56, 58, 61, 63, 64, 69, 71, 74, 76, 80, 82, 87, 89, 90, 92, 94,\n",
       "       96, 98], dtype=int32)"
      ]
     },
     "execution_count": 18,
     "metadata": {},
     "output_type": "execute_result"
    }
   ],
   "source": [
    "print(np_array4)\n",
    "np.unique(np_array4)"
   ]
  },
  {
   "cell_type": "markdown",
   "id": "9c7173d5-51d3-4c59-8ced-4ff883db8ff4",
   "metadata": {},
   "source": [
    "# Reshaping Arrays"
   ]
  },
  {
   "cell_type": "code",
   "execution_count": 19,
   "id": "25ac4088-9847-40be-8762-e1b93175ea12",
   "metadata": {},
   "outputs": [
    {
     "name": "stdout",
     "output_type": "stream",
     "text": [
      "[[9 4 9 7 6]\n",
      " [8 0 2 8 4]\n",
      " [1 3 5 2 1]\n",
      " [3 1 5 1 9]]\n"
     ]
    },
    {
     "data": {
      "text/plain": [
       "array([[4, 6, 7, 9, 9],\n",
       "       [0, 2, 4, 8, 8],\n",
       "       [1, 1, 2, 3, 5],\n",
       "       [1, 1, 3, 5, 9]], dtype=int32)"
      ]
     },
     "execution_count": 19,
     "metadata": {},
     "output_type": "execute_result"
    }
   ],
   "source": [
    "np_array5 = np.random.randint(0,10,size = (4,5))\n",
    "# np_array5.reshape(2,2,25)\n",
    "# np_array5.resize(2,50)\n",
    "print(np_array5)\n",
    "np_array5.transpose()\n",
    "np_array5.swapaxes(1,0)\n",
    "np_array5.sort(axis = 1)\n",
    "np_array5"
   ]
  },
  {
   "cell_type": "markdown",
   "id": "e0072f6e-e08e-477d-8adb-c49196573ae6",
   "metadata": {},
   "source": [
    "# Stacking & Splitting"
   ]
  },
  {
   "cell_type": "code",
   "execution_count": 20,
   "id": "164894b4-6be8-46df-8a74-bb1078a5c1e9",
   "metadata": {},
   "outputs": [
    {
     "name": "stdout",
     "output_type": "stream",
     "text": [
      "np_array6 [[8 4 8 6 1 8 6 3 7 0]\n",
      " [2 2 9 5 2 3 7 7 4 0]\n",
      " [8 8 6 8 3 3 5 7 5 3]\n",
      " [9 1 6 5 3 2 2 0 7 9]]\n",
      "np_array7 [[0 9 8 1 0 5 1 9 8 4]\n",
      " [1 8 8 4 0 9 0 7 5 6]\n",
      " [5 9 7 4 2 4 7 9 7 1]\n",
      " [9 8 9 0 8 6 7 8 4 5]]\n"
     ]
    },
    {
     "data": {
      "text/plain": [
       "[array([[8, 4, 8, 6, 1, 8, 6, 3, 7, 0],\n",
       "        [2, 2, 9, 5, 2, 3, 7, 7, 4, 0]], dtype=int32),\n",
       " array([[8, 8, 6, 8, 3, 3, 5, 7, 5, 3],\n",
       "        [9, 1, 6, 5, 3, 2, 2, 0, 7, 9]], dtype=int32)]"
      ]
     },
     "execution_count": 20,
     "metadata": {},
     "output_type": "execute_result"
    }
   ],
   "source": [
    "np_array6 = np.random.randint(0,10,size = (4,10))\n",
    "print(\"np_array6\",np_array6)\n",
    "np_array7 = np.random.randint(0,10,size = (4,10))\n",
    "print(\"np_array7\",np_array7)\n",
    "\n",
    "np.vstack((np_array6,np_array7))\n",
    "np.hstack((np_array6,np_array7))\n",
    "\n",
    "# np_array8 = np.delete(np_array6,2,0)\n",
    "np_array8 = np.delete(np_array6,1,1)\n",
    "np_array8\n",
    "\n",
    "# np.column_stack((np_array6,np_array7))\n",
    "# np.row_stack((np_array6,np_array7))\n",
    "\n",
    "\n",
    "np.vsplit(np_array6, 2)\n",
    "\n",
    "# np.split?\n",
    "\n",
    "\n",
    "\n",
    "\n"
   ]
  },
  {
   "cell_type": "markdown",
   "id": "ed343385-fe64-4b15-8dd9-4bbfb7e9975a",
   "metadata": {},
   "source": [
    "# Copying"
   ]
  },
  {
   "cell_type": "code",
   "execution_count": 21,
   "id": "566563d3-43bc-4cf8-a590-7d224f8e109e",
   "metadata": {},
   "outputs": [
    {
     "name": "stdout",
     "output_type": "stream",
     "text": [
      "np_array6 [[8 4 8 6 1 8 6 3 7 0]\n",
      " [2 2 9 5 2 3 7 7 4 0]\n",
      " [8 8 6 8 3 3 5 7 5 3]\n",
      " [9 1 6 5 3 2 2 0 7 9]]\n",
      "np_array6 [[8 4 8 6 1 8 6 3 7 0]\n",
      " [2 2 9 5 2 3 7 7 4 0]\n",
      " [8 8 6 8 3 3 5 7 5 3]\n",
      " [9 1 6 5 3 2 2 0 7 9]]\n",
      "[8 4 8 6 1 8 6 3 7 0 2 2 9 5 2 3 7 7 4 0 8 8 6 8 3 3 5 7 5 3 9 1 6 5 3 2 2\n",
      " 0 7 9]\n",
      "cp_array [[8 4 8 6 1 8 6 3 7 0]\n",
      " [2 2 9 5 2 3 7 7 4 0]\n",
      " [8 8 6 8 3 3 5 7 5 3]\n",
      " [9 1 6 5 3 2 2 0 7 9]]\n"
     ]
    }
   ],
   "source": [
    "\n",
    "np_array8 = np_array6\n",
    "# np_array8.resize(4,5)\n",
    "\n",
    "print(\"np_array6\",np_array6)\n",
    "print(\"np_array6\",np_array8)\n",
    "\n",
    "cp_array = np_array6.view()\n",
    "print(cp_array.flatten())\n",
    "\n",
    "# cp_array.resize((2,4))\n",
    "print(\"cp_array\",cp_array)\n",
    "cp_array1 = np_array6.copy()\n",
    "\n",
    "cp_array1.resize((4,5))\n"
   ]
  },
  {
   "cell_type": "markdown",
   "id": "5bfcf9ad-dd5c-44b5-97fe-2a0bf6cd7ab2",
   "metadata": {},
   "source": [
    "# Math"
   ]
  },
  {
   "cell_type": "code",
   "execution_count": 22,
   "id": "bf8dc2af-9b53-44ff-a490-253c61c7e370",
   "metadata": {},
   "outputs": [
    {
     "name": "stdout",
     "output_type": "stream",
     "text": [
      "arr_4 [2 4 6 8]\n",
      "[[21 75 42]\n",
      " [77 69  5]]\n",
      "(2, 3)\n"
     ]
    }
   ],
   "source": [
    "arr_3 = np.array([1, 2, 3, 4])\n",
    "arr_4 = np.array([2, 4, 6, 8])\n",
    "print(\"arr_4\",arr_4)\n",
    "\n",
    "arr_3 + arr_4\n",
    "\n",
    "arr_3 - arr_4\n",
    "\n",
    "arr_3 * arr_4\n",
    "\n",
    "arr_3 / arr_4\n",
    "\n",
    "arr_3 % arr_4\n",
    "\n",
    "random.choice(arr_4)\n",
    "\n",
    "arr_4.sum()\n",
    "\n",
    "arr_6 = random.randint(100, size=(2, 3))\n",
    "print(arr_6)\n",
    "\n",
    "arr_6.cumsum(axis = 1)\n",
    "\n",
    "arr_6.min()\n",
    "\n",
    "arr_6.max()\n",
    "\n",
    "max_values = arr_6.argmax(axis = 0)\n",
    "\n",
    "np.add(arr_3,arr_4)\n",
    "\n",
    "np.subtract(arr_3,arr_4)\n",
    "\n",
    "np.power(arr_3,arr_4)\n",
    "\n",
    "np.sqrt(arr_4)\n",
    "\n",
    "np.cbrt(arr_4)\n",
    "\n",
    "np.absolute([-2,-5,6,9.9])\n",
    "\n",
    "np.exp(arr_4)\n",
    "np.floor([1.3,5.9,10.0]) #round down\n",
    "np.ceil([1.3,5.9,10.0]) #round up\n",
    "\n",
    "print(arr_6.shape)\n",
    "\n"
   ]
  },
  {
   "cell_type": "code",
   "execution_count": 23,
   "id": "4b70f18b-5712-46cb-adc1-766909a0ab9c",
   "metadata": {},
   "outputs": [
    {
     "name": "stdout",
     "output_type": "stream",
     "text": [
      "['st-1' 'st-2' 'st-3' 'st-4' 'st-5']\n",
      "[[85 70 40 90 60]\n",
      " [70 75 40 90 60]\n",
      " [80 70 95 90 60]\n",
      " [80 70 50 85 60]\n",
      " [80 75 40 90 60]]\n",
      "['Maths' 'Urdu' 'Sindhi' 'Chemistry' 'Physics']\n",
      "[345 335 395 345 345]\n",
      "[2 0 3 4 1]\n",
      "**********\n",
      "Rank: 1\n",
      "Student Id:st-3\n",
      "Total marks:395\n",
      "Maths: 80\n",
      "Urdu: 70\n",
      "Sindhi: 95\n",
      "Chemistry: 90\n",
      "Physics: 60\n",
      "**********\n",
      "**********\n",
      "Rank: 2\n",
      "Student Id:st-1\n",
      "Total marks:345\n",
      "Maths: 85\n",
      "Urdu: 70\n",
      "Sindhi: 40\n",
      "Chemistry: 90\n",
      "Physics: 60\n",
      "**********\n",
      "**********\n",
      "Rank: 3\n",
      "Student Id:st-4\n",
      "Total marks:345\n",
      "Maths: 80\n",
      "Urdu: 70\n",
      "Sindhi: 50\n",
      "Chemistry: 85\n",
      "Physics: 60\n",
      "**********\n",
      "**********\n",
      "Rank: 4\n",
      "Student Id:st-5\n",
      "Total marks:345\n",
      "Maths: 80\n",
      "Urdu: 75\n",
      "Sindhi: 40\n",
      "Chemistry: 90\n",
      "Physics: 60\n",
      "**********\n",
      "**********\n",
      "Rank: 5\n",
      "Student Id:st-2\n",
      "Total marks:335\n",
      "Maths: 70\n",
      "Urdu: 75\n",
      "Sindhi: 40\n",
      "Chemistry: 90\n",
      "Physics: 60\n",
      "**********\n"
     ]
    },
    {
     "data": {
      "text/plain": [
       "'\\nfor rank in top_students:\\n    h_score = high_score[rank]\\n    print(\"*\"*10)\\n    print(f\"Rank:{np.where(top_students == rank)[0][0]+1}\\nStudent Id: {st_Id[rank]}\\nSubject with High Score: {subjects[h_score]} Score:{st_array[rank,h_score]}\")\\n\\n\\nprint(subjects)\\nprint(st_Id)\\nprint(st_array)\\n\\nhigh_score = np.argmax(st_array,axis = 1)\\nprint(high_score)\\ntop_students =  np.argsort(high_score)\\nprint(top_students)\\nfor rank in top_students:\\n    print(\"*\"*10)\\n    print(f\"Rank:{np.where(top_students == rank)[0][0]+\\nStudent Id: {st_Id[rank]}\\nSubject with high score: {subjects[rank]}\\nScore: {high_score[rank]}\")\\n    print(\"*\"*10)\\n'"
      ]
     },
     "execution_count": 23,
     "metadata": {},
     "output_type": "execute_result"
    }
   ],
   "source": [
    "Student_data = {\"st-1\":{\"Maths\":85,\"Urdu\":70,\"Sindhi\":40,\"Chemistry\":90,\"Physics\":60},\n",
    "               \"st-2\":{\"Maths\":70,\"Urdu\":75,\"Sindhi\":40,\"Chemistry\":90,\"Physics\":60},\n",
    "               \"st-3\":{\"Maths\":80,\"Urdu\":70,\"Sindhi\":95,\"Chemistry\":90,\"Physics\":60},\n",
    "               \"st-4\":{\"Maths\":80,\"Urdu\":70,\"Sindhi\":50,\"Chemistry\":85,\"Physics\":60},\n",
    "               \"st-5\":{\"Maths\":80,\"Urdu\":75,\"Sindhi\":40,\"Chemistry\":90,\"Physics\":60}}\n",
    "st_Id = np.array([key for key in Student_data.keys()])\n",
    "st_array = np.array([list(std.values()) for std in Student_data.values()])\n",
    "subjects = np.array([list(std.keys()) for std in Student_data.values()])[0]\n",
    "print(st_Id)\n",
    "print(st_array)\n",
    "print(subjects)\n",
    "\n",
    "#high_score = np.argmax(st_array, axis = 1)\n",
    "#print(high_score)\n",
    "#high_score = np.array([int(st_array[index, loc]) for index, loc in enumerate(high_score)])\n",
    "#print(high_score)\n",
    "#top_students = np.argsort(-high_score)\n",
    "#print(top_students)\n",
    "\n",
    "total_marks = np.sum(st_array,axis = 1)\n",
    "#print(total_marks)\n",
    "top_students = np.argsort(-total_marks)\n",
    "print(total_marks)\n",
    "print(top_students)\n",
    "\n",
    "for rank, loc in enumerate(top_students):\n",
    "    print(\"*\"*10)\n",
    "    print(f\"Rank: {rank+1}\\nStudent Id:{st_Id[loc]}\\nTotal marks:{total_marks[loc]}\")\n",
    "    for sub, marks in zip(subjects,st_array[loc]):\n",
    "        print(f\"{sub}: {marks}\")\n",
    "    print(\"*\"*10)\n",
    "    \n",
    "\"\"\"\n",
    "for rank in top_students:\n",
    "    h_score = high_score[rank]\n",
    "    print(\"*\"*10)\n",
    "    print(f\"Rank:{np.where(top_students == rank)[0][0]+1}\\nStudent Id: {st_Id[rank]}\\nSubject with High Score: {subjects[h_score]} Score:{st_array[rank,h_score]}\")\n",
    "\n",
    "\n",
    "print(subjects)\n",
    "print(st_Id)\n",
    "print(st_array)\n",
<<<<<<< HEAD
 
=======
    "\n",
    "high_score = np.argmax(st_array,axis = 1)\n",
    "print(high_score)\n",
    "top_students =  np.argsort(high_score)\n",
    "print(top_students)\n",
    "for rank in top_students:\n",
    "    print(\"*\"*10)\n",
    "    print(f\"Rank:{np.where(top_students == rank)[0][0]+\\nStudent Id: {st_Id[rank]}\\nSubject with high score: {subjects[rank]}\\nScore: {high_score[rank]}\")\n",
    "    print(\"*\"*10)\n",
    "\"\"\"\n",
>>>>>>> d28deb8 (Week14)
    "\n"
   ]
  },
  {
   "cell_type": "markdown",
   "id": "ada307a5-8913-4805-acfe-425d54891e05",
   "metadata": {},
   "source": [
    "# Matrix Functions"
   ]
  },
  {
   "cell_type": "code",
   "execution_count": 24,
   "id": "41545821-a4ea-48c4-9b74-ae61e9a03d23",
   "metadata": {},
   "outputs": [
    {
     "name": "stdout",
     "output_type": "stream",
     "text": [
      "arr_5\n",
      " [[1 2]\n",
      " [3 4]]\n",
      "arr_6\n",
      " [2 4 6 8]\n"
     ]
    },
    {
     "data": {
      "text/plain": [
       "array([[19, 22],\n",
       "       [43, 50]])"
      ]
     },
     "execution_count": 24,
     "metadata": {},
     "output_type": "execute_result"
    }
   ],
   "source": [
    "arr_5 = np.array([[1, 2], [3, 4]])\n",
    "arr_6 = np.array([[2, 4], [6, 9]])\n",
    "print(\"arr_5\\n\", arr_5)\n",
    "print(\"arr_6\\n\", arr_4)\n",
    "arr_8 = np.array([[5, 6], [7, 8]])\n",
    "\n",
    "np.dot(arr_5,arr_8)"
   ]
  },
  {
   "cell_type": "code",
   "execution_count": 25,
   "id": "8ed0ca00-b306-4e7d-b2ec-6e68029230ee",
   "metadata": {},
   "outputs": [
    {
     "data": {
      "text/plain": [
       "array([[224, 260],\n",
       "       [486, 564]])"
      ]
     },
     "execution_count": 25,
     "metadata": {},
     "output_type": "execute_result"
    }
   ],
   "source": [
    "np.linalg.multi_dot((arr_5,arr_6,arr_8))"
   ]
  },
  {
   "cell_type": "code",
   "execution_count": 26,
   "id": "1c05848e-93de-4dec-83c5-9f084f8349b8",
   "metadata": {},
   "outputs": [
    {
     "data": {
      "text/plain": [
       "np.float64(-2.0000000000000004)"
      ]
     },
     "execution_count": 26,
     "metadata": {},
     "output_type": "execute_result"
    }
   ],
   "source": [
    "np.linalg.det(arr_5)\n"
   ]
  },
  {
   "cell_type": "code",
   "execution_count": 54,
   "id": "579fec23-2869-43cd-83e5-f27f76278a39",
   "metadata": {},
   "outputs": [
    {
     "name": "stdout",
     "output_type": "stream",
     "text": [
      "[['SquareFeet' 'Bedrooms' 'Bathrooms' 'Neighborhood' 'YearBuilt' 'Price']\n",
      " ['2126' '4' '1' 'Rural' '1969' '215355.28361820139']\n",
      " ['2459' '3' '2' 'Rural' '1980' '195014.22162584803']\n",
      " ...\n",
      " ['2979' '5' '3' 'Suburb' '1962' '384110.55559035065']\n",
      " ['2596' '5' '2' 'Rural' '1984' '380512.68595683837']\n",
      " ['1572' '5' '3' 'Rural' '2011' '221618.58321806978']]\n"
     ]
    }
   ],
   "source": [
    "my_file = np.loadtxt(\"housing_price_dataset.csv\",dtype = object, delimiter = ',')\n",
    "print(my_file)"
   ]
  },
  {
   "cell_type": "code",
   "execution_count": 55,
   "id": "9642d5de-7b62-4a60-bcb8-63c26f6d4091",
   "metadata": {},
   "outputs": [
    {
     "data": {
      "text/plain": [
       "(50001, 6)"
      ]
     },
     "execution_count": 55,
     "metadata": {},
     "output_type": "execute_result"
    }
   ],
   "source": [
    "my_file.shape"
   ]
  },
  {
   "cell_type": "code",
   "execution_count": 56,
   "id": "75f128cc-e126-42e1-a207-cbc89f3d8f95",
   "metadata": {},
   "outputs": [
    {
     "data": {
      "text/plain": [
       "array(['SquareFeet', 'Bedrooms', 'Bathrooms', 'Neighborhood', 'YearBuilt',\n",
       "       'Price'], dtype=object)"
      ]
     },
     "execution_count": 56,
     "metadata": {},
     "output_type": "execute_result"
    }
   ],
   "source": [
    "headers = my_file[0]\n",
    "headers"
   ]
  },
  {
   "cell_type": "code",
   "execution_count": 57,
   "id": "7b6efbf0-126d-4054-bd4f-bd3478c9a56e",
   "metadata": {},
   "outputs": [],
   "source": [
    "my_file = np.delete(my_file,0,axis=0)"
   ]
  },
  {
   "cell_type": "code",
   "execution_count": 58,
   "id": "30f80ee3-c80f-41be-863e-fdd261e44bf9",
   "metadata": {},
   "outputs": [
    {
     "data": {
      "text/plain": [
       "array(['2294', '2', '1', 'Urban', '1996', '206786.78715332696'],\n",
       "      dtype=object)"
      ]
     },
     "execution_count": 58,
     "metadata": {},
     "output_type": "execute_result"
    }
   ],
   "source": [
    "my_file = np.where(my_file == '', 0,my_file)\n",
    "my_file[3]"
   ]
  },
  {
   "cell_type": "code",
   "execution_count": 77,
   "id": "67460c49-24fc-456d-80b4-ee1b878a06fc",
   "metadata": {},
   "outputs": [
    {
     "name": "stdout",
     "output_type": "stream",
     "text": [
      "[[1 2]\n",
      " [3 4]]\n",
      "X\n",
      "[[1 2]\n",
      " [3 4]]\n",
      "X\n",
      "[5 6]\n"
     ]
    }
   ],
   "source": [
    "arry_12 = np.array([[1,2],[3,4]])\n",
    "arry_13 = np.array([5,6])\n",
    "print(arry_12)\n",
    "print(\"X\")\n",
    "print(arry_12)\n",
    "print(\"X\")\n",
    "print(arry_13)"
   ]
  },
  {
   "cell_type": "code",
   "execution_count": 74,
   "id": "4cc7ac62-4ada-4343-a23f-92aa26f2b1b7",
   "metadata": {},
   "outputs": [
    {
     "data": {
      "text/plain": [
       "array([17, 39])"
      ]
     },
     "execution_count": 74,
     "metadata": {},
     "output_type": "execute_result"
    }
   ],
   "source": [
    "np.dot(arry_12,arry_13)\n",
    "#(a*w)+(b*y) = [0,0]\n",
    "#(1*1)+(2*3) = 7\n",
    "#(a*x)+(b*z) = [0,1]\n",
    "#(1*2)+(2*4) = 10\n",
    "#(c*w)+(d*y) = [0,0]\n",
    "#(3*1)+(4*3) = 15\n",
    "#(c*x)+(d*z) = [0,1]\n",
    "#(3*2)+(4*4) = 22"
   ]
  },
  {
   "cell_type": "code",
   "execution_count": 75,
   "id": "9bf0938a-8eef-4b71-9964-4797d448ca91",
   "metadata": {},
   "outputs": [],
   "source": [
    "from numpy import linalg as LA"
   ]
  },
  {
   "cell_type": "code",
   "execution_count": 76,
   "id": "ae1d3de3-91a9-452e-a766-373d6a81554d",
   "metadata": {},
   "outputs": [
    {
     "data": {
      "text/plain": [
       "array([ 95, 207])"
      ]
     },
     "execution_count": 76,
     "metadata": {},
     "output_type": "execute_result"
    }
   ],
   "source": [
    "LA.multi_dot([arry_12,arry_12,arry_13])"
   ]
  },
  {
   "cell_type": "code",
   "execution_count": 79,
   "id": "d0fa4168-9cb3-4d02-83c0-650144749150",
   "metadata": {},
   "outputs": [
    {
     "data": {
      "text/plain": [
       "array([[ 5, 11],\n",
       "       [11, 25]])"
      ]
     },
     "execution_count": 79,
     "metadata": {},
     "output_type": "execute_result"
    }
   ],
   "source": [
    "np.inner(arry_12,arry_12)\n",
    "#(a*w)+(b*x) = [0][0]\n",
    "#(1*1)+(2*2) = 5\n",
    "#(a*y)+(b*z) = [0][1]\n",
    "#(1*3)+(2*4) = 11\n",
    "#(c*w)+(d*x) = [1][0]\n",
    "#(3*1)+(4*2) = 11\n",
    "#(c*y)+(d*z) = [1][1]\n",
    "#(3*3)+(4*4) = 25"
   ]
  },
  {
   "cell_type": "code",
   "execution_count": 81,
   "id": "777f70cb-362e-4aaa-9c10-11f4c731a01c",
   "metadata": {},
   "outputs": [
    {
     "data": {
      "text/plain": [
       "array([[ 37,  54],\n",
       "       [ 81, 118]])"
      ]
     },
     "execution_count": 81,
     "metadata": {},
     "output_type": "execute_result"
    }
   ],
   "source": [
    "LA.matrix_power(arry_12, 3)"
   ]
  },
  {
   "cell_type": "code",
   "execution_count": 83,
   "id": "980913a8-7cf7-4766-9633-93268dbcffdf",
   "metadata": {},
   "outputs": [
    {
     "data": {
      "text/plain": [
       "array([[1.00000000e+00, 0.00000000e+00],\n",
       "       [1.11022302e-16, 1.00000000e+00]])"
      ]
     },
     "execution_count": 83,
     "metadata": {},
     "output_type": "execute_result"
    }
   ],
   "source": [
    "np.dot(LA.inv(arry_12),arry_12)"
   ]
  },
  {
   "cell_type": "code",
   "execution_count": 86,
   "id": "f9150985-2bdd-4ad2-8b75-0cb0d6590ae5",
   "metadata": {},
   "outputs": [
    {
     "name": "stdout",
     "output_type": "stream",
     "text": [
      "[[14 -7]\n",
      " [ 9 12]]\n",
      "\n",
      "[[ 6]\n",
      " [-9]]\n"
     ]
    }
   ],
   "source": [
    "print(np.array([[14,-7],[9,12]]))\n",
    "print()\n",
    "print(np.array([[6],[-9]]))"
   ]
  },
  {
   "cell_type": "code",
   "execution_count": 95,
   "id": "90a49c57-30bb-455c-aa38-abdf151f2cc0",
   "metadata": {},
   "outputs": [
    {
     "data": {
      "text/plain": [
       "np.float64(-2.0000000000000004)"
      ]
     },
     "execution_count": 95,
     "metadata": {},
     "output_type": "execute_result"
    }
   ],
   "source": [
    "LA.det(arry_12)"
   ]
  },
  {
   "cell_type": "code",
   "execution_count": 120,
   "id": "abaaf69c-3106-4884-b214-bde5c88e676f",
   "metadata": {},
   "outputs": [],
   "source": [
    "from numpy import genfromtxt\n",
    "\n",
    "house_price = genfromtxt(\"housing_price_dataset.csv\",delimiter = \",\")"
   ]
  },
  {
   "cell_type": "code",
   "execution_count": 121,
   "id": "a215a681-b99f-45d9-b927-a31325633e14",
   "metadata": {},
   "outputs": [
    {
     "data": {
      "text/plain": [
       "array([[           nan,            nan,            nan,            nan,\n",
       "                   nan,            nan],\n",
       "       [2.12600000e+03, 4.00000000e+00, 1.00000000e+00,            nan,\n",
       "        1.96900000e+03, 2.15355284e+05],\n",
       "       [2.45900000e+03, 3.00000000e+00, 2.00000000e+00,            nan,\n",
       "        1.98000000e+03, 1.95014222e+05],\n",
       "       ...,\n",
       "       [2.97900000e+03, 5.00000000e+00, 3.00000000e+00,            nan,\n",
       "        1.96200000e+03, 3.84110556e+05],\n",
       "       [2.59600000e+03, 5.00000000e+00, 2.00000000e+00,            nan,\n",
       "        1.98400000e+03, 3.80512686e+05],\n",
       "       [1.57200000e+03, 5.00000000e+00, 3.00000000e+00,            nan,\n",
       "        2.01100000e+03, 2.21618583e+05]])"
      ]
     },
     "execution_count": 121,
     "metadata": {},
     "output_type": "execute_result"
    }
   ],
   "source": [
    "house_price"
   ]
  },
  {
   "cell_type": "code",
   "execution_count": 106,
   "id": "08e424f8-da9f-4bb9-8108-6a5d55df5a1b",
   "metadata": {},
   "outputs": [],
   "source": [
    "my_file = np.loadtxt(\"housing_price_dataset.csv\", delimiter = ',',dtype = object)"
   ]
  },
  {
   "cell_type": "code",
   "execution_count": 107,
   "id": "22f1445b-fa19-4e5a-bec3-a01cacbbd110",
   "metadata": {},
   "outputs": [
    {
     "data": {
      "text/plain": [
       "array([['SquareFeet', 'Bedrooms', 'Bathrooms', 'Neighborhood',\n",
       "        'YearBuilt', 'Price'],\n",
       "       ['2126', '4', '1', 'Rural', '1969', '215355.2836'],\n",
       "       ['2459', '3', '2', 'Rural', '1980', '195014.2216'],\n",
       "       ...,\n",
       "       ['2979', '5', '3', 'Suburb', '1962', '384110.5556'],\n",
       "       ['2596', '5', '2', 'Rural', '1984', '380512.686'],\n",
       "       ['1572', '5', '3', 'Rural', '2011', '221618.5832']], dtype=object)"
      ]
     },
     "execution_count": 107,
     "metadata": {},
     "output_type": "execute_result"
    }
   ],
   "source": [
    "my_file"
   ]
  },
  {
   "cell_type": "code",
   "execution_count": 108,
   "id": "4d1dff2c-fe33-42ba-b416-d4630ceeb156",
   "metadata": {},
   "outputs": [
    {
     "data": {
      "text/plain": [
       "array(['SquareFeet', 'Bedrooms', 'Bathrooms', 'Neighborhood', 'YearBuilt',\n",
       "       'Price'], dtype=object)"
      ]
     },
     "execution_count": 108,
     "metadata": {},
     "output_type": "execute_result"
    }
   ],
   "source": [
    "features = my_file[0]\n",
    "features"
   ]
  },
  {
   "cell_type": "code",
   "execution_count": 109,
   "id": "6cd84603-f4e0-4621-ad2f-7a268ed6ab70",
   "metadata": {},
   "outputs": [],
   "source": [
    "my_file = np.delete(my_file,0, axis=0)"
   ]
  },
  {
   "cell_type": "code",
   "execution_count": 111,
   "id": "f4998358-77a8-4121-8ddf-61cfce766bc5",
   "metadata": {},
   "outputs": [
    {
     "data": {
      "text/plain": [
       "array(['2130', '5', '2', 'Suburb', '2001', ''], dtype=object)"
      ]
     },
     "execution_count": 111,
     "metadata": {},
     "output_type": "execute_result"
    }
   ],
   "source": [
    "my_file[4]"
   ]
  },
  {
   "cell_type": "code",
   "execution_count": 112,
   "id": "6fba1ec1-1034-4449-950a-20687165e2af",
   "metadata": {},
   "outputs": [
    {
     "data": {
      "text/plain": [
       "(50000, 6)"
      ]
     },
     "execution_count": 112,
     "metadata": {},
     "output_type": "execute_result"
    }
   ],
   "source": [
    "my_file.shape"
   ]
  },
  {
   "cell_type": "code",
   "execution_count": 115,
   "id": "752bfb49-30d4-42d1-948c-db7828ee9c90",
   "metadata": {},
   "outputs": [
    {
     "data": {
      "text/plain": [
       "array(['1466', '5', '0', 'Suburb', '1951', '191113.7687'], dtype=object)"
      ]
     },
     "execution_count": 115,
     "metadata": {},
     "output_type": "execute_result"
    }
   ],
   "source": [
    "my_file = np.where(my_file == '', '0',my_file)\n",
    "my_file[10]"
   ]
  },
  {
   "cell_type": "code",
   "execution_count": 139,
   "id": "f84bd3a8-a4cd-41bc-bfbb-1141c49c3b51",
   "metadata": {},
   "outputs": [
    {
     "data": {
      "text/plain": [
       "(array([ 4, 10]), array([5, 2]))"
      ]
     },
     "execution_count": 139,
     "metadata": {},
     "output_type": "execute_result"
    }
   ],
   "source": [
    "my_file[my_file == '0']\n",
    "np.where(my_file == '0')"
   ]
  },
  {
   "cell_type": "code",
   "execution_count": 142,
   "id": "c8d4f58f-e260-48c4-97a9-16bfde8990b1",
   "metadata": {},
   "outputs": [],
   "source": [
    "prices = my_file[:,5].astype(float)"
   ]
  },
  {
   "cell_type": "code",
   "execution_count": 143,
   "id": "65be682c-d13d-432e-9904-e6d3914e09dc",
   "metadata": {},
   "outputs": [
    {
     "data": {
      "text/plain": [
       "np.float64(224821.87642606258)"
      ]
     },
     "execution_count": 143,
     "metadata": {},
     "output_type": "execute_result"
    }
   ],
   "source": [
    "np.average(prices)"
   ]
  },
  {
   "cell_type": "code",
   "execution_count": 144,
   "id": "8de731ed-4f35-4f4b-9b64-e686b26bae75",
   "metadata": {},
   "outputs": [
    {
     "data": {
      "text/plain": [
       "np.float64(224821.87642606258)"
      ]
     },
     "execution_count": 144,
     "metadata": {},
     "output_type": "execute_result"
    }
   ],
   "source": [
    "np.mean(prices)"
   ]
  },
  {
   "cell_type": "code",
   "execution_count": 145,
   "id": "ceb9f8da-ee9b-47ad-8c7d-5ed2b3cb9d93",
   "metadata": {},
   "outputs": [
    {
     "data": {
      "text/plain": [
       "np.float64(76147.42203962241)"
      ]
     },
     "execution_count": 145,
     "metadata": {},
     "output_type": "execute_result"
    }
   ],
   "source": [
    "np.std(prices)"
   ]
  },
  {
   "cell_type": "code",
   "execution_count": 147,
   "id": "819d0252-ded0-4e4f-be33-3be4ef1bcc8b",
   "metadata": {},
   "outputs": [
    {
     "data": {
      "text/plain": [
       "np.float64(5798429883.280374)"
      ]
     },
     "execution_count": 147,
     "metadata": {},
     "output_type": "execute_result"
    }
   ],
   "source": [
    "np.var(prices)"
   ]
  },
  {
   "cell_type": "code",
   "execution_count": 149,
   "id": "98466c97-05c6-469f-aa39-061aae31c64f",
   "metadata": {},
   "outputs": [],
   "source": [
    "arr_15 = np.array([4, 6, 3, 5, 2])\n"
   ]
  },
  {
   "cell_type": "code",
   "execution_count": 150,
   "id": "2d4007eb-576d-4996-8947-b44efe13b1d4",
   "metadata": {},
   "outputs": [
    {
     "data": {
      "text/plain": [
       "np.float64(4.0)"
      ]
     },
     "execution_count": 150,
     "metadata": {},
     "output_type": "execute_result"
    }
   ],
   "source": [
    "np.average(arr_15)"
   ]
  },
  {
   "cell_type": "code",
   "execution_count": 152,
   "id": "6e3ddd11-049c-4617-8126-34cbf2989daf",
   "metadata": {},
   "outputs": [
    {
     "data": {
      "text/plain": [
       "np.float64(4.0)"
      ]
     },
     "execution_count": 152,
     "metadata": {},
     "output_type": "execute_result"
    }
   ],
   "source": [
    "np.mean(arr_15)"
   ]
  },
  {
   "cell_type": "code",
   "execution_count": 153,
   "id": "58c6388e-9223-4495-bd77-49fc20dd41d3",
   "metadata": {},
   "outputs": [
    {
     "data": {
      "text/plain": [
       "np.float64(2.0)"
      ]
     },
     "execution_count": 153,
     "metadata": {},
     "output_type": "execute_result"
    }
   ],
   "source": [
    "np.var(arr_15)"
   ]
  },
  {
   "cell_type": "code",
   "execution_count": 154,
   "id": "e9aa98f9-a4b1-4a21-a085-2a628df66dc4",
   "metadata": {},
   "outputs": [
    {
     "data": {
      "text/plain": [
       "np.float64(1.4142135623730951)"
      ]
     },
     "execution_count": 154,
     "metadata": {},
     "output_type": "execute_result"
    }
   ],
   "source": [
    "np.std(arr_15)"
   ]
  },
  {
   "cell_type": "code",
   "execution_count": null,
   "id": "16e22b2a-04ce-41e3-8d1a-0a61eda0dfee",
   "metadata": {},
   "outputs": [],
   "source": []
  }
 ],
 "metadata": {
  "kernelspec": {
   "display_name": "Python 3 (ipykernel)",
   "language": "python",
   "name": "python3"
  },
  "language_info": {
   "codemirror_mode": {
    "name": "ipython",
    "version": 3
   },
   "file_extension": ".py",
   "mimetype": "text/x-python",
   "name": "python",
   "nbconvert_exporter": "python",
   "pygments_lexer": "ipython3",
   "version": "3.11.3"
  }
 },
 "nbformat": 4,
 "nbformat_minor": 5
}
